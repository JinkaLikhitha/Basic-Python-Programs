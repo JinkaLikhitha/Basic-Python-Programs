{
 "cells": [
  {
   "cell_type": "code",
   "execution_count": 1,
   "id": "921529dc-62a5-4dde-ba4e-3c6fd8361138",
   "metadata": {},
   "outputs": [
    {
     "name": "stdout",
     "output_type": "stream",
     "text": [
      "10\n",
      "3\n"
     ]
    }
   ],
   "source": [
    "#Python program to swap numbers without using any temp variable\n",
    "x=3\n",
    "y=10\n",
    "x=x+y\n",
    "y=x-y\n",
    "x=x-y\n",
    "print(x)\n",
    "print(y)\n"
   ]
  },
  {
   "cell_type": "code",
   "execution_count": 2,
   "id": "0850ee94-973d-46e7-b485-1b47be1a9a31",
   "metadata": {},
   "outputs": [
    {
     "name": "stdin",
     "output_type": "stream",
     "text": [
      "Enter length :  3\n",
      "Enter width :  7\n"
     ]
    },
    {
     "name": "stdout",
     "output_type": "stream",
     "text": [
      "Area of rectangle is :  21\n"
     ]
    }
   ],
   "source": [
    "#to calculate area of rectangle\n",
    "l=int(input(\"Enter length : \"))\n",
    "w=int(input(\"Enter width : \"))\n",
    "area=l*w\n",
    "print(\"Area of rectangle is : \",area)"
   ]
  },
  {
   "cell_type": "code",
   "execution_count": 3,
   "id": "08aa91a1-74ba-4bb4-8eb9-8372e8f611ea",
   "metadata": {},
   "outputs": [
    {
     "name": "stdin",
     "output_type": "stream",
     "text": [
      "Enter temperature in celsius :  47\n"
     ]
    },
    {
     "name": "stdout",
     "output_type": "stream",
     "text": [
      "Temperature in fahrenheit :  116.60000000000001\n"
     ]
    }
   ],
   "source": [
    "#converting temperature from celsius to fahrenheit\n",
    "celsius=int(input(\"Enter temperature in celsius : \"))\n",
    "fahrenheit=(1.8*celsius)+32\n",
    "print(\"Temperature in fahrenheit : \",fahrenheit)"
   ]
  },
  {
   "cell_type": "code",
   "execution_count": 4,
   "id": "3efabe5f-f085-4beb-b4b6-f3da4b548ccb",
   "metadata": {},
   "outputs": [
    {
     "name": "stdin",
     "output_type": "stream",
     "text": [
      "Enter a string :  Shinchan\n"
     ]
    },
    {
     "name": "stdout",
     "output_type": "stream",
     "text": [
      "Length of input string is : 8\n"
     ]
    }
   ],
   "source": [
    "#python program that takes string as input and prints length of string\n",
    "input_str=input(\"Enter a string : \")\n",
    "str_length=len(input_str)\n",
    "print(\"Length of input string is :\",str_length)"
   ]
  },
  {
   "cell_type": "code",
   "execution_count": 5,
   "id": "420204be-dce0-4105-adbc-644e495affb3",
   "metadata": {},
   "outputs": [
    {
     "name": "stdin",
     "output_type": "stream",
     "text": [
      "Enter a sentence : I love tamil\n"
     ]
    },
    {
     "name": "stdout",
     "output_type": "stream",
     "text": [
      "Number of vowels in sentence : 5\n"
     ]
    }
   ],
   "source": [
    "#to count number of vowels in a sentence\n",
    "sentence=input(\"Enter a sentence :\")\n",
    "vowel_count=0\n",
    "vowels=set(\"AEIOUaeiou\")\n",
    "for char in sentence:\n",
    "    if char in vowels:\n",
    "        vowel_count+=1\n",
    "print(\"Number of vowels in sentence :\",vowel_count)\n"
   ]
  },
  {
   "cell_type": "code",
   "execution_count": 6,
   "id": "2c075eef-4195-42bb-8680-176c1e553f4b",
   "metadata": {},
   "outputs": [
    {
     "name": "stdin",
     "output_type": "stream",
     "text": [
      "Enter a string :  Python\n"
     ]
    },
    {
     "name": "stdout",
     "output_type": "stream",
     "text": [
      "Reversed String: nohtyP\n"
     ]
    }
   ],
   "source": [
    "#python program to reverse a string\n",
    "input_string=input(\"Enter a string : \")\n",
    "reversed_string=input_string[::-1]\n",
    "print(\"Reversed String:\",reversed_string)\n"
   ]
  },
  {
   "cell_type": "code",
   "execution_count": 8,
   "id": "235ffda1-143b-41ac-8552-38cbea2eee39",
   "metadata": {},
   "outputs": [
    {
     "name": "stdin",
     "output_type": "stream",
     "text": [
      "Enter a string madam\n"
     ]
    },
    {
     "name": "stdout",
     "output_type": "stream",
     "text": [
      "string is palindrome\n"
     ]
    }
   ],
   "source": [
    "#python program to check string is palindrome or not\n",
    "str=input(\"Enter a string\")\n",
    "if str==str[::-1]:\n",
    "    print(\"string is palindrome\")\n",
    "else:\n",
    "    print(\"string is not a palindrome\")\n"
   ]
  },
  {
   "cell_type": "code",
   "execution_count": 12,
   "id": "9e3a6300-44c1-4412-ae65-670221ffb303",
   "metadata": {},
   "outputs": [
    {
     "name": "stdin",
     "output_type": "stream",
     "text": [
      "Enter string: L i k k i i i\n"
     ]
    },
    {
     "name": "stdout",
     "output_type": "stream",
     "text": [
      "Likkiii\n"
     ]
    }
   ],
   "source": [
    "str=input(\"Enter string:\")\n",
    "new_str=str.replace(\" \",\"\")\n",
    "print(new_str)"
   ]
  }
 ],
 "metadata": {
  "kernelspec": {
   "display_name": "Python 3 (ipykernel)",
   "language": "python",
   "name": "python3"
  },
  "language_info": {
   "codemirror_mode": {
    "name": "ipython",
    "version": 3
   },
   "file_extension": ".py",
   "mimetype": "text/x-python",
   "name": "python",
   "nbconvert_exporter": "python",
   "pygments_lexer": "ipython3",
   "version": "3.10.8"
  }
 },
 "nbformat": 4,
 "nbformat_minor": 5
}
